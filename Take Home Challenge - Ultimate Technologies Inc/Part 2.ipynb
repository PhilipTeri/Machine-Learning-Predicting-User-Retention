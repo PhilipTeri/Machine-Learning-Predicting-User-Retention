{
 "cells": [
  {
   "cell_type": "markdown",
   "id": "84a27249",
   "metadata": {},
   "source": [
    "# Part 2 ‑ Experiment and metrics design\n",
    "The neighboring cities of Gotham and Metropolis have complementary circadian rhythms: on\n",
    "weekdays, Ultimate Gotham is most active at night, and Ultimate Metropolis is most active\n",
    "during the day. On weekends, there is reasonable activity in both cities.\n",
    "However, a toll bridge, with a two­way toll, between the two cities causes driver partners to tend\n",
    "to be exclusive to each city. The Ultimate managers of city operations for the two cities have\n",
    "proposed an experiment to encourage driver partners to be available in both cities, by\n",
    "reimbursing all toll costs.\n",
    "\n",
    "#### Questions\n",
    "1. What would you choose as the key measure of success of this experiment in\n",
    "encouraging driver partners to serve both cities, and why would you choose this metric?\n",
    "2. Describe a practical experiment you would design to compare the effectiveness of the\n",
    "proposed change in relation to the key measure of success. Please provide details on:\n",
    "a. how you will implement the experiment\n",
    "b. what statistical test(s) you will conduct to verify the significance of the\n",
    "observation\n",
    "c. how you would interpret the results and provide recommendations to the city\n",
    "operations team along with any caveats."
   ]
  },
  {
   "cell_type": "markdown",
   "id": "78e42acc",
   "metadata": {},
   "source": [
    "#### Question 1 Answer:\n",
    "\n",
    "The goal of this experiment is to encourage drivers from each city to work in both cities. The reason for this is because each city has a different time of day where people are most active. This means that there is a surge multiplier to the price during those times because there is high demand for drivers. \n",
    "\n",
    "A key measure of success would be a decrease in the average surge applied to each users trip. This would mean drivers from one city during their slow period(non-surge) have gone into the other city and during their peak times. Surge prices are calculated based on demand for drivers, so the hypothesis is that this should drop.\n",
    "\n",
    "\n",
    "\n",
    "\n",
    "#### Question 2 Answer:\n",
    "\n",
    "I would use a two sample t-test to see if there is a significant difference in the mean of the current average surge multiplier and the average after removing tolls from the bridge. The Null hypothesis is that there will be no significant change in the aeverage of both.\n",
    "\n",
    "\n",
    "The t-test would give a t-value that represents the probability of getting a value above or below the mean of the t-distribution. I can then calculate the p-value of the tails of the t-distibution to determine whether the null should be rejected or not. If I set my significance level to 0.05 and the p-value is less than the significance level I can reject the null hypothesis. This would suggest that there is a significant difference the the two averages in surge prices.\n",
    "\n",
    "\n",
    "A caveat to study is that drivers may not want to drive to another city, or may not want other drivers coming to their city, especially since this may reduce profits. \n",
    "\n",
    "\n",
    "\n",
    "\n",
    "\n"
   ]
  },
  {
   "cell_type": "markdown",
   "id": "880dbd24",
   "metadata": {},
   "source": [
    "# Data description\n",
    "● city: city this user signed up in\n",
    "<br>● phone: primary device for this user\n",
    "<br>● signup_date: date of account registration; in the form ‘YYYYMMDD’\n",
    "<br>● last_trip_date: the last time this user completed a trip; in the form ‘YYYYMMDD’\n",
    "<br>● avg_dist: the average distance in miles per trip taken in the first 30 days after signup\n",
    "<br>● avg_rating_by_driver: the rider’s average rating over all of their trips\n",
    "<br>● avg_rating_of_driver: the rider’s average rating of their drivers over all of their trips\n",
    "<br>● surge_pct: the percent of trips taken with surge multiplier > 1\n",
    "<br>● avg_surge: The average surge multiplier over all of this user’s trips\n",
    "<br>● trips_in_first_30_days: the number of trips this user took in the first 30 days after\n",
    "signing up\n",
    "<br>● ultimate_black_user: TRUE if the user took an Ultimate Black in their first 30 days;\n",
    "FALSE otherwise\n",
    "<br>● weekday_pct: the percent of the user’s trips occurring during a weekday"
   ]
  },
  {
   "cell_type": "code",
   "execution_count": null,
   "id": "933d591f",
   "metadata": {},
   "outputs": [],
   "source": []
  }
 ],
 "metadata": {
  "kernelspec": {
   "display_name": "Python [conda env:root] *",
   "language": "python",
   "name": "conda-root-py"
  },
  "language_info": {
   "codemirror_mode": {
    "name": "ipython",
    "version": 3
   },
   "file_extension": ".py",
   "mimetype": "text/x-python",
   "name": "python",
   "nbconvert_exporter": "python",
   "pygments_lexer": "ipython3",
   "version": "3.8.8"
  }
 },
 "nbformat": 4,
 "nbformat_minor": 5
}
